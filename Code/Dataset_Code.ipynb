{
  "nbformat": 4,
  "nbformat_minor": 0,
  "metadata": {
    "colab": {
      "name": "Dataset Code.ipynb",
      "provenance": [],
      "collapsed_sections": []
    },
    "kernelspec": {
      "name": "python3",
      "display_name": "Python 3"
    },
    "language_info": {
      "name": "python"
    }
  },
  "cells": [
    {
      "cell_type": "code",
      "execution_count": 1,
      "metadata": {
        "id": "Oew2ixBVaA5g"
      },
      "outputs": [],
      "source": [
        "import numpy as np \n",
        "import pandas as pd\n",
        "from sklearn.linear_model import LinearRegression\n",
        "from sklearn.model_selection import train_test_split\n",
        "import matplotlib.pyplot as plt "
      ]
    },
    {
      "cell_type": "code",
      "source": [
        "import os\n",
        "for dirname, _, filenames in os.walk('/jupyter/input'):\n",
        "    for filename in filenames:\n",
        "        print(os.path.join(dirname, filename))"
      ],
      "metadata": {
        "id": "XdodZjFmaUac"
      },
      "execution_count": 2,
      "outputs": []
    },
    {
      "cell_type": "code",
      "source": [
        "filename = '../content/Dataset/Population Dataset.csv'\n",
        "df = pd.read_csv(filename)"
      ],
      "metadata": {
        "id": "xedeu6bpaXDW"
      },
      "execution_count": 3,
      "outputs": []
    },
    {
      "cell_type": "code",
      "source": [
        "df.describe()"
      ],
      "metadata": {
        "colab": {
          "base_uri": "https://localhost:8080/",
          "height": 416
        },
        "id": "Y-2jY-Qnacxz",
        "outputId": "b824453d-b06d-44d0-e773-c11268dd8f60"
      },
      "execution_count": 4,
      "outputs": [
        {
          "output_type": "execute_result",
          "data": {
            "text/html": [
              "\n",
              "  <div id=\"df-40f6da1a-8518-4954-8c32-87277ee15120\">\n",
              "    <div class=\"colab-df-container\">\n",
              "      <div>\n",
              "<style scoped>\n",
              "    .dataframe tbody tr th:only-of-type {\n",
              "        vertical-align: middle;\n",
              "    }\n",
              "\n",
              "    .dataframe tbody tr th {\n",
              "        vertical-align: top;\n",
              "    }\n",
              "\n",
              "    .dataframe thead th {\n",
              "        text-align: right;\n",
              "    }\n",
              "</style>\n",
              "<table border=\"1\" class=\"dataframe\">\n",
              "  <thead>\n",
              "    <tr style=\"text-align: right;\">\n",
              "      <th></th>\n",
              "      <th>Year</th>\n",
              "      <th>Yearly % \\nChange</th>\n",
              "      <th>Yearly\\nChange</th>\n",
              "      <th>Migrants (net)</th>\n",
              "      <th>Median Age</th>\n",
              "      <th>Fertility Rate</th>\n",
              "      <th>Density (P/Km²)</th>\n",
              "      <th>Urban\\nPop %</th>\n",
              "      <th>Urban Population</th>\n",
              "      <th>Country's Share of\\nWorld Pop</th>\n",
              "      <th>India\\nGlobal Rank</th>\n",
              "      <th>Population</th>\n",
              "    </tr>\n",
              "  </thead>\n",
              "  <tbody>\n",
              "    <tr>\n",
              "      <th>count</th>\n",
              "      <td>24.000000</td>\n",
              "      <td>24.000000</td>\n",
              "      <td>2.400000e+01</td>\n",
              "      <td>23.000000</td>\n",
              "      <td>24.000000</td>\n",
              "      <td>24.000000</td>\n",
              "      <td>24.000000</td>\n",
              "      <td>24.00000</td>\n",
              "      <td>2.400000e+01</td>\n",
              "      <td>24.000000</td>\n",
              "      <td>24.000000</td>\n",
              "      <td>2.400000e+01</td>\n",
              "    </tr>\n",
              "    <tr>\n",
              "      <th>mean</th>\n",
              "      <td>2005.000000</td>\n",
              "      <td>1.412917</td>\n",
              "      <td>1.286815e+07</td>\n",
              "      <td>-252570.869565</td>\n",
              "      <td>25.962500</td>\n",
              "      <td>3.479583</td>\n",
              "      <td>374.583333</td>\n",
              "      <td>31.53750</td>\n",
              "      <td>3.881687e+08</td>\n",
              "      <td>16.776250</td>\n",
              "      <td>1.791667</td>\n",
              "      <td>1.113504e+09</td>\n",
              "    </tr>\n",
              "    <tr>\n",
              "      <th>std</th>\n",
              "      <td>27.489128</td>\n",
              "      <td>0.666897</td>\n",
              "      <td>4.239948e+06</td>\n",
              "      <td>286175.441586</td>\n",
              "      <td>5.752188</td>\n",
              "      <td>1.447566</td>\n",
              "      <td>136.433745</td>\n",
              "      <td>10.10806</td>\n",
              "      <td>2.378749e+08</td>\n",
              "      <td>1.098227</td>\n",
              "      <td>0.414851</td>\n",
              "      <td>4.058605e+08</td>\n",
              "    </tr>\n",
              "    <tr>\n",
              "      <th>min</th>\n",
              "      <td>1955.000000</td>\n",
              "      <td>0.230000</td>\n",
              "      <td>3.711367e+06</td>\n",
              "      <td>-532687.000000</td>\n",
              "      <td>19.300000</td>\n",
              "      <td>2.240000</td>\n",
              "      <td>138.000000</td>\n",
              "      <td>17.60000</td>\n",
              "      <td>7.195850e+07</td>\n",
              "      <td>14.780000</td>\n",
              "      <td>1.000000</td>\n",
              "      <td>4.098806e+08</td>\n",
              "    </tr>\n",
              "    <tr>\n",
              "      <th>25%</th>\n",
              "      <td>1983.750000</td>\n",
              "      <td>0.995000</td>\n",
              "      <td>9.941006e+06</td>\n",
              "      <td>-500592.000000</td>\n",
              "      <td>20.675000</td>\n",
              "      <td>2.240000</td>\n",
              "      <td>256.750000</td>\n",
              "      <td>23.97500</td>\n",
              "      <td>1.829768e+08</td>\n",
              "      <td>15.995000</td>\n",
              "      <td>2.000000</td>\n",
              "      <td>7.630082e+08</td>\n",
              "    </tr>\n",
              "    <tr>\n",
              "      <th>50%</th>\n",
              "      <td>2012.500000</td>\n",
              "      <td>1.335000</td>\n",
              "      <td>1.387048e+07</td>\n",
              "      <td>-414772.000000</td>\n",
              "      <td>25.950000</td>\n",
              "      <td>2.600000</td>\n",
              "      <td>428.000000</td>\n",
              "      <td>31.75000</td>\n",
              "      <td>4.049070e+08</td>\n",
              "      <td>17.255000</td>\n",
              "      <td>2.000000</td>\n",
              "      <td>1.272217e+09</td>\n",
              "    </tr>\n",
              "    <tr>\n",
              "      <th>75%</th>\n",
              "      <td>2021.250000</td>\n",
              "      <td>2.010000</td>\n",
              "      <td>1.565104e+07</td>\n",
              "      <td>-25972.500000</td>\n",
              "      <td>28.800000</td>\n",
              "      <td>4.752500</td>\n",
              "      <td>469.500000</td>\n",
              "      <td>35.65000</td>\n",
              "      <td>4.980096e+08</td>\n",
              "      <td>17.702500</td>\n",
              "      <td>2.000000</td>\n",
              "      <td>1.396256e+09</td>\n",
              "    </tr>\n",
              "    <tr>\n",
              "      <th>max</th>\n",
              "      <td>2050.000000</td>\n",
              "      <td>2.330000</td>\n",
              "      <td>1.853059e+07</td>\n",
              "      <td>421208.000000</td>\n",
              "      <td>38.100000</td>\n",
              "      <td>5.900000</td>\n",
              "      <td>551.000000</td>\n",
              "      <td>53.50000</td>\n",
              "      <td>8.766130e+08</td>\n",
              "      <td>17.750000</td>\n",
              "      <td>2.000000</td>\n",
              "      <td>1.639176e+09</td>\n",
              "    </tr>\n",
              "  </tbody>\n",
              "</table>\n",
              "</div>\n",
              "      <button class=\"colab-df-convert\" onclick=\"convertToInteractive('df-40f6da1a-8518-4954-8c32-87277ee15120')\"\n",
              "              title=\"Convert this dataframe to an interactive table.\"\n",
              "              style=\"display:none;\">\n",
              "        \n",
              "  <svg xmlns=\"http://www.w3.org/2000/svg\" height=\"24px\"viewBox=\"0 0 24 24\"\n",
              "       width=\"24px\">\n",
              "    <path d=\"M0 0h24v24H0V0z\" fill=\"none\"/>\n",
              "    <path d=\"M18.56 5.44l.94 2.06.94-2.06 2.06-.94-2.06-.94-.94-2.06-.94 2.06-2.06.94zm-11 1L8.5 8.5l.94-2.06 2.06-.94-2.06-.94L8.5 2.5l-.94 2.06-2.06.94zm10 10l.94 2.06.94-2.06 2.06-.94-2.06-.94-.94-2.06-.94 2.06-2.06.94z\"/><path d=\"M17.41 7.96l-1.37-1.37c-.4-.4-.92-.59-1.43-.59-.52 0-1.04.2-1.43.59L10.3 9.45l-7.72 7.72c-.78.78-.78 2.05 0 2.83L4 21.41c.39.39.9.59 1.41.59.51 0 1.02-.2 1.41-.59l7.78-7.78 2.81-2.81c.8-.78.8-2.07 0-2.86zM5.41 20L4 18.59l7.72-7.72 1.47 1.35L5.41 20z\"/>\n",
              "  </svg>\n",
              "      </button>\n",
              "      \n",
              "  <style>\n",
              "    .colab-df-container {\n",
              "      display:flex;\n",
              "      flex-wrap:wrap;\n",
              "      gap: 12px;\n",
              "    }\n",
              "\n",
              "    .colab-df-convert {\n",
              "      background-color: #E8F0FE;\n",
              "      border: none;\n",
              "      border-radius: 50%;\n",
              "      cursor: pointer;\n",
              "      display: none;\n",
              "      fill: #1967D2;\n",
              "      height: 32px;\n",
              "      padding: 0 0 0 0;\n",
              "      width: 32px;\n",
              "    }\n",
              "\n",
              "    .colab-df-convert:hover {\n",
              "      background-color: #E2EBFA;\n",
              "      box-shadow: 0px 1px 2px rgba(60, 64, 67, 0.3), 0px 1px 3px 1px rgba(60, 64, 67, 0.15);\n",
              "      fill: #174EA6;\n",
              "    }\n",
              "\n",
              "    [theme=dark] .colab-df-convert {\n",
              "      background-color: #3B4455;\n",
              "      fill: #D2E3FC;\n",
              "    }\n",
              "\n",
              "    [theme=dark] .colab-df-convert:hover {\n",
              "      background-color: #434B5C;\n",
              "      box-shadow: 0px 1px 3px 1px rgba(0, 0, 0, 0.15);\n",
              "      filter: drop-shadow(0px 1px 2px rgba(0, 0, 0, 0.3));\n",
              "      fill: #FFFFFF;\n",
              "    }\n",
              "  </style>\n",
              "\n",
              "      <script>\n",
              "        const buttonEl =\n",
              "          document.querySelector('#df-40f6da1a-8518-4954-8c32-87277ee15120 button.colab-df-convert');\n",
              "        buttonEl.style.display =\n",
              "          google.colab.kernel.accessAllowed ? 'block' : 'none';\n",
              "\n",
              "        async function convertToInteractive(key) {\n",
              "          const element = document.querySelector('#df-40f6da1a-8518-4954-8c32-87277ee15120');\n",
              "          const dataTable =\n",
              "            await google.colab.kernel.invokeFunction('convertToInteractive',\n",
              "                                                     [key], {});\n",
              "          if (!dataTable) return;\n",
              "\n",
              "          const docLinkHtml = 'Like what you see? Visit the ' +\n",
              "            '<a target=\"_blank\" href=https://colab.research.google.com/notebooks/data_table.ipynb>data table notebook</a>'\n",
              "            + ' to learn more about interactive tables.';\n",
              "          element.innerHTML = '';\n",
              "          dataTable['output_type'] = 'display_data';\n",
              "          await google.colab.output.renderOutput(dataTable, element);\n",
              "          const docLink = document.createElement('div');\n",
              "          docLink.innerHTML = docLinkHtml;\n",
              "          element.appendChild(docLink);\n",
              "        }\n",
              "      </script>\n",
              "    </div>\n",
              "  </div>\n",
              "  "
            ],
            "text/plain": [
              "              Year  Yearly % \\nChange  ...  India\\nGlobal Rank    Population\n",
              "count    24.000000          24.000000  ...           24.000000  2.400000e+01\n",
              "mean   2005.000000           1.412917  ...            1.791667  1.113504e+09\n",
              "std      27.489128           0.666897  ...            0.414851  4.058605e+08\n",
              "min    1955.000000           0.230000  ...            1.000000  4.098806e+08\n",
              "25%    1983.750000           0.995000  ...            2.000000  7.630082e+08\n",
              "50%    2012.500000           1.335000  ...            2.000000  1.272217e+09\n",
              "75%    2021.250000           2.010000  ...            2.000000  1.396256e+09\n",
              "max    2050.000000           2.330000  ...            2.000000  1.639176e+09\n",
              "\n",
              "[8 rows x 12 columns]"
            ]
          },
          "metadata": {},
          "execution_count": 4
        }
      ]
    },
    {
      "cell_type": "code",
      "source": [
        "df.info()"
      ],
      "metadata": {
        "colab": {
          "base_uri": "https://localhost:8080/"
        },
        "id": "tY6cB1RBag2G",
        "outputId": "6f9bfe91-f0e1-4d66-cf24-fd480b3e6be4"
      },
      "execution_count": 5,
      "outputs": [
        {
          "output_type": "stream",
          "name": "stdout",
          "text": [
            "<class 'pandas.core.frame.DataFrame'>\n",
            "RangeIndex: 24 entries, 0 to 23\n",
            "Data columns (total 13 columns):\n",
            " #   Column                        Non-Null Count  Dtype  \n",
            "---  ------                        --------------  -----  \n",
            " 0   Year                          24 non-null     int64  \n",
            " 1   Yearly % \n",
            "Change              24 non-null     float64\n",
            " 2   Yearly\n",
            "Change                 24 non-null     int64  \n",
            " 3   Migrants (net)                23 non-null     float64\n",
            " 4   Median Age                    24 non-null     float64\n",
            " 5   Fertility Rate                24 non-null     float64\n",
            " 6   Density (P/Km²)               24 non-null     int64  \n",
            " 7   Urban\n",
            "Pop %                   24 non-null     float64\n",
            " 8   Urban Population              24 non-null     int64  \n",
            " 9   Country's Share of\n",
            "World Pop  24 non-null     float64\n",
            " 10  World Population              24 non-null     object \n",
            " 11  India\n",
            "Global Rank             24 non-null     int64  \n",
            " 12  Population                    24 non-null     int64  \n",
            "dtypes: float64(6), int64(6), object(1)\n",
            "memory usage: 2.6+ KB\n"
          ]
        }
      ]
    },
    {
      "cell_type": "code",
      "source": [
        "x = df['Year'].values\n",
        "y = df['Population'].values\n",
        "\n",
        "x = x.reshape(-1,1)\n",
        "y = y.reshape(-1,1)\n",
        "\n",
        "x_train, x_test, y_train, y_test = train_test_split(x, y, train_size=.8, test_size=.2, random_state=17)"
      ],
      "metadata": {
        "id": "i74wJRzOare3"
      },
      "execution_count": 6,
      "outputs": []
    },
    {
      "cell_type": "code",
      "source": [
        "plt.scatter(x_train, y_train, color='blue')\n",
        "plt.xlabel('Year')\n",
        "plt.ylabel('Population')\n",
        "plt.title('Population of India Over Time')\n",
        "plt.show()"
      ],
      "metadata": {
        "colab": {
          "base_uri": "https://localhost:8080/",
          "height": 295
        },
        "id": "SuBtdms0auXA",
        "outputId": "3477b4cd-f3f3-4316-fe17-08d907ee572d"
      },
      "execution_count": 7,
      "outputs": [
        {
          "output_type": "display_data",
          "data": {
            "image/png": "[encoded data removed]",
            "text/plain": [
              "<Figure size 432x288 with 1 Axes>"
            ]
          },
          "metadata": {
            "needs_background": "light"
          }
        }
      ]
    },
    {
      "cell_type": "code",
      "source": [
        "lm = LinearRegression()\n",
        "lm.fit(x_train,y_train)\n",
        "y_predict =lm.predict(x_test)\n"
      ],
      "metadata": {
        "id": "awDlTtpCaxGn"
      },
      "execution_count": 8,
      "outputs": []
    },
    {
      "cell_type": "code",
      "source": [
        "print(f'Train Accuracy {round(lm.score(x_train,y_train)*100, 2)}%')\n",
        "print(f'Test Accuracy {round(lm.score(x_test,y_test)*100, 2)}%')"
      ],
      "metadata": {
        "colab": {
          "base_uri": "https://localhost:8080/"
        },
        "id": "e_BY2lDmaz1J",
        "outputId": "e915a019-5ca5-4644-b78e-7d8d7265ca4c"
      },
      "execution_count": 9,
      "outputs": [
        {
          "output_type": "stream",
          "name": "stdout",
          "text": [
            "Train Accuracy 98.98%\n",
            "Test Accuracy 96.45%\n"
          ]
        }
      ]
    },
    {
      "cell_type": "code",
      "source": [
        "plt.scatter(x_train, y_train, color='blue')\n",
        "plt.plot(x_test,y_predict)\n",
        "plt.xlabel('Year')\n",
        "plt.ylabel('Population')\n",
        "plt.title('Population of India Over Time')\n",
        "plt.show()"
      ],
      "metadata": {
        "colab": {
          "base_uri": "https://localhost:8080/",
          "height": 295
        },
        "id": "VA7-HKqxa2Sl",
        "outputId": "53eb2af6-874a-4512-acba-3bd9e3c071be"
      },
      "execution_count": 10,
      "outputs": [
        {
          "output_type": "display_data",
          "data": {
            "image/png": "[encoded data removed]",
            "text/plain": [
              "<Figure size 432x288 with 1 Axes>"
            ]
          },
          "metadata": {
            "needs_background": "light"
          }
        }
      ]
    }
  ]
}